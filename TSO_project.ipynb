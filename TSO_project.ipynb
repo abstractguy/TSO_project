{
  "nbformat": 4,
  "nbformat_minor": 0,
  "metadata": {
    "colab": {
      "name": "TSO_project.ipynb",
      "version": "0.3.2",
      "provenance": [],
      "collapsed_sections": [],
      "include_colab_link": true
    },
    "kernelspec": {
      "name": "python3",
      "display_name": "Python 3"
    },
    "accelerator": "GPU"
  },
  "cells": [
    {
      "cell_type": "markdown",
      "metadata": {
        "id": "view-in-github",
        "colab_type": "text"
      },
      "source": [
        "<a href=\"https://colab.research.google.com/github/abstractguy/TSO_project/blob/master/TSO_project.ipynb\" target=\"_parent\"><img src=\"https://colab.research.google.com/assets/colab-badge.svg\" alt=\"Open In Colab\"/></a>"
      ]
    },
    {
      "cell_type": "code",
      "metadata": {
        "id": "8-AxnvAVyzQQ",
        "colab_type": "code",
        "colab": {
          "base_uri": "https://localhost:8080/",
          "height": 816
        },
        "outputId": "5e477bec-cb9c-4f4d-c58c-ef0176195166"
      },
      "source": [
        "!pip install gym pyvirtualdisplay pyglet==1.3.2\n",
        "!apt-get install -y xvfb python-opengl ffmpeg"
      ],
      "execution_count": 1,
      "outputs": [
        {
          "output_type": "stream",
          "text": [
            "Requirement already satisfied: gym in /usr/local/lib/python3.6/dist-packages (0.10.11)\n",
            "Collecting pyvirtualdisplay\n",
            "  Downloading https://files.pythonhosted.org/packages/cf/ad/b15f252bfb0f1693ad3150b55a44a674f3cba711cacdbb9ae2f03f143d19/PyVirtualDisplay-0.2.4-py2.py3-none-any.whl\n",
            "Collecting pyglet==1.3.2\n",
            "\u001b[?25l  Downloading https://files.pythonhosted.org/packages/1c/fc/dad5eaaab68f0c21e2f906a94ddb98175662cc5a654eee404d59554ce0fa/pyglet-1.3.2-py2.py3-none-any.whl (1.0MB)\n",
            "\u001b[K     |████████████████████████████████| 1.0MB 37.1MB/s \n",
            "\u001b[?25hRequirement already satisfied: numpy>=1.10.4 in /usr/local/lib/python3.6/dist-packages (from gym) (1.16.4)\n",
            "Requirement already satisfied: requests>=2.0 in /usr/local/lib/python3.6/dist-packages (from gym) (2.21.0)\n",
            "Requirement already satisfied: scipy in /usr/local/lib/python3.6/dist-packages (from gym) (1.3.1)\n",
            "Requirement already satisfied: six in /usr/local/lib/python3.6/dist-packages (from gym) (1.12.0)\n",
            "Collecting EasyProcess (from pyvirtualdisplay)\n",
            "  Downloading https://files.pythonhosted.org/packages/fa/29/40040d1d64a224a5e44df9572794a66494618ffe5c77199214aeceedb8a7/EasyProcess-0.2.7-py2.py3-none-any.whl\n",
            "Requirement already satisfied: future in /usr/local/lib/python3.6/dist-packages (from pyglet==1.3.2) (0.16.0)\n",
            "Requirement already satisfied: urllib3<1.25,>=1.21.1 in /usr/local/lib/python3.6/dist-packages (from requests>=2.0->gym) (1.24.3)\n",
            "Requirement already satisfied: chardet<3.1.0,>=3.0.2 in /usr/local/lib/python3.6/dist-packages (from requests>=2.0->gym) (3.0.4)\n",
            "Requirement already satisfied: idna<2.9,>=2.5 in /usr/local/lib/python3.6/dist-packages (from requests>=2.0->gym) (2.8)\n",
            "Requirement already satisfied: certifi>=2017.4.17 in /usr/local/lib/python3.6/dist-packages (from requests>=2.0->gym) (2019.6.16)\n",
            "Installing collected packages: EasyProcess, pyvirtualdisplay, pyglet\n",
            "  Found existing installation: pyglet 1.4.1\n",
            "    Uninstalling pyglet-1.4.1:\n",
            "      Successfully uninstalled pyglet-1.4.1\n",
            "Successfully installed EasyProcess-0.2.7 pyglet-1.3.2 pyvirtualdisplay-0.2.4\n",
            "Reading package lists... Done\n",
            "Building dependency tree       \n",
            "Reading state information... Done\n",
            "ffmpeg is already the newest version (7:3.4.6-0ubuntu0.18.04.1).\n",
            "Suggested packages:\n",
            "  libgle3\n",
            "The following NEW packages will be installed:\n",
            "  python-opengl xvfb\n",
            "0 upgraded, 2 newly installed, 0 to remove and 8 not upgraded.\n",
            "Need to get 1,280 kB of archives.\n",
            "After this operation, 7,682 kB of additional disk space will be used.\n",
            "Get:1 http://archive.ubuntu.com/ubuntu bionic/universe amd64 python-opengl all 3.1.0+dfsg-1 [496 kB]\n",
            "Get:2 http://archive.ubuntu.com/ubuntu bionic-updates/universe amd64 xvfb amd64 2:1.19.6-1ubuntu4.3 [783 kB]\n",
            "Fetched 1,280 kB in 3s (422 kB/s)\n",
            "Selecting previously unselected package python-opengl.\n",
            "(Reading database ... 131183 files and directories currently installed.)\n",
            "Preparing to unpack .../python-opengl_3.1.0+dfsg-1_all.deb ...\n",
            "Unpacking python-opengl (3.1.0+dfsg-1) ...\n",
            "Selecting previously unselected package xvfb.\n",
            "Preparing to unpack .../xvfb_2%3a1.19.6-1ubuntu4.3_amd64.deb ...\n",
            "Unpacking xvfb (2:1.19.6-1ubuntu4.3) ...\n",
            "Setting up python-opengl (3.1.0+dfsg-1) ...\n",
            "Setting up xvfb (2:1.19.6-1ubuntu4.3) ...\n",
            "Processing triggers for man-db (2.8.3-2ubuntu0.1) ...\n"
          ],
          "name": "stdout"
        }
      ]
    },
    {
      "cell_type": "code",
      "metadata": {
        "id": "TCelFzWY9MBI",
        "colab_type": "code",
        "colab": {
          "base_uri": "https://localhost:8080/",
          "height": 833
        },
        "outputId": "8dd32e72-3c9c-46cf-df51-c89cc18d7892"
      },
      "source": [
        "!apt-get update\n",
        "!apt-get install cmake\n",
        "!pip install --upgrade setuptools\n",
        "!pip install ez_setup\n",
        "!pip install gym[atari]"
      ],
      "execution_count": 2,
      "outputs": [
        {
          "output_type": "stream",
          "text": [
            "\r0% [Working]\r            \rGet:1 https://cloud.r-project.org/bin/linux/ubuntu bionic-cran35/ InRelease [3,626 B]\n",
            "\r0% [Connecting to archive.ubuntu.com (91.189.88.162)] [Connecting to security.u\r0% [Connecting to archive.ubuntu.com (91.189.88.162)] [Connecting to security.u\r0% [1 InRelease gpgv 3,626 B] [Connecting to archive.ubuntu.com (91.189.88.162)\r0% [Connecting to archive.ubuntu.com (91.189.88.162)] [Connecting to security.u\r                                                                               \rHit:2 http://ppa.launchpad.net/graphics-drivers/ppa/ubuntu bionic InRelease\n",
            "\r0% [Waiting for headers] [Waiting for headers] [Waiting for headers] [Connectin\r0% [2 InRelease gpgv 21.3 kB] [Waiting for headers] [Waiting for headers] [Wait\r                                                                               \rHit:3 http://archive.ubuntu.com/ubuntu bionic InRelease\n",
            "\r0% [2 InRelease gpgv 21.3 kB] [Waiting for headers] [Waiting for headers] [Wait\r0% [Waiting for headers] [Waiting for headers] [Waiting for headers] [Connectin\r0% [3 InRelease gpgv 242 kB] [Waiting for headers] [Waiting for headers] [Waiti\r                                                                               \rIgn:4 https://developer.download.nvidia.com/compute/cuda/repos/ubuntu1804/x86_64  InRelease\n",
            "\r0% [3 InRelease gpgv 242 kB] [Waiting for headers] [Waiting for headers] [Waiti\r                                                                               \rGet:5 http://security.ubuntu.com/ubuntu bionic-security InRelease [88.7 kB]\n",
            "\r0% [3 InRelease gpgv 242 kB] [Waiting for headers] [5 InRelease 2,586 B/88.7 kB\r0% [Waiting for headers] [5 InRelease 5,482 B/88.7 kB 6%] [Waiting for headers]\r                                                                               \rGet:6 http://archive.ubuntu.com/ubuntu bionic-updates InRelease [88.7 kB]\n",
            "\r0% [6 InRelease 1,154 B/88.7 kB 1%] [5 InRelease 5,482 B/88.7 kB 6%] [Waiting f\r                                                                               \rIgn:7 https://developer.download.nvidia.com/compute/machine-learning/repos/ubuntu1804/x86_64  InRelease\n",
            "\r0% [6 InRelease 15.6 kB/88.7 kB 18%] [5 InRelease 14.2 kB/88.7 kB 16%] [Waiting\r                                                                               \rHit:8 https://developer.download.nvidia.com/compute/cuda/repos/ubuntu1804/x86_64  Release\n",
            "\r0% [6 InRelease 15.6 kB/88.7 kB 18%] [5 InRelease 14.2 kB/88.7 kB 16%] [Waiting\r0% [Release.gpg gpgv 564 B] [6 InRelease 15.6 kB/88.7 kB 18%] [5 InRelease 14.2\r                                                                               \rHit:9 https://developer.download.nvidia.com/compute/machine-learning/repos/ubuntu1804/x86_64  Release\n",
            "Hit:11 http://ppa.launchpad.net/marutter/c2d4u3.5/ubuntu bionic InRelease\n",
            "Get:13 http://archive.ubuntu.com/ubuntu bionic-backports InRelease [74.6 kB]\n",
            "Get:14 http://security.ubuntu.com/ubuntu bionic-security/universe amd64 Packages [760 kB]\n",
            "Get:15 http://archive.ubuntu.com/ubuntu bionic-updates/universe amd64 Packages [1,279 kB]\n",
            "Get:16 http://security.ubuntu.com/ubuntu bionic-security/main amd64 Packages [628 kB]\n",
            "Get:17 http://archive.ubuntu.com/ubuntu bionic-updates/main amd64 Packages [926 kB]\n",
            "Fetched 3,849 kB in 4s (989 kB/s)\n",
            "Reading package lists... Done\n",
            "Reading package lists... Done\n",
            "Building dependency tree       \n",
            "Reading state information... Done\n",
            "cmake is already the newest version (3.10.2-1ubuntu2.18.04.1).\n",
            "0 upgraded, 0 newly installed, 0 to remove and 12 not upgraded.\n",
            "Requirement already up-to-date: setuptools in /usr/local/lib/python3.6/dist-packages (41.2.0)\n",
            "Collecting ez_setup\n",
            "  Downloading https://files.pythonhosted.org/packages/ba/2c/743df41bd6b3298706dfe91b0c7ecdc47f2dc1a3104abeb6e9aa4a45fa5d/ez_setup-0.9.tar.gz\n",
            "Building wheels for collected packages: ez-setup\n",
            "  Building wheel for ez-setup (setup.py) ... \u001b[?25l\u001b[?25hdone\n",
            "  Created wheel for ez-setup: filename=ez_setup-0.9-cp36-none-any.whl size=11014 sha256=ec1046efd5e66d2a96aa9158f10bbbeecdbd794676e2633ce3f5301a2a62c24f\n",
            "  Stored in directory: /root/.cache/pip/wheels/dc/e8/6b/3d5ff5a3efd7b5338d1e173ac981771e2628ceb2f7866d49ad\n",
            "Successfully built ez-setup\n",
            "Installing collected packages: ez-setup\n",
            "Successfully installed ez-setup-0.9\n",
            "Requirement already satisfied: gym[atari] in /usr/local/lib/python3.6/dist-packages (0.10.11)\n",
            "Requirement already satisfied: six in /usr/local/lib/python3.6/dist-packages (from gym[atari]) (1.12.0)\n",
            "Requirement already satisfied: pyglet>=1.2.0 in /usr/local/lib/python3.6/dist-packages (from gym[atari]) (1.3.2)\n",
            "Requirement already satisfied: scipy in /usr/local/lib/python3.6/dist-packages (from gym[atari]) (1.3.1)\n",
            "Requirement already satisfied: numpy>=1.10.4 in /usr/local/lib/python3.6/dist-packages (from gym[atari]) (1.16.4)\n",
            "Requirement already satisfied: requests>=2.0 in /usr/local/lib/python3.6/dist-packages (from gym[atari]) (2.21.0)\n",
            "Requirement already satisfied: Pillow; extra == \"atari\" in /usr/local/lib/python3.6/dist-packages (from gym[atari]) (4.3.0)\n",
            "Requirement already satisfied: atari-py>=0.1.4; extra == \"atari\" in /usr/local/lib/python3.6/dist-packages (from gym[atari]) (0.1.15)\n",
            "Requirement already satisfied: PyOpenGL; extra == \"atari\" in /usr/local/lib/python3.6/dist-packages (from gym[atari]) (3.1.0)\n",
            "Requirement already satisfied: future in /usr/local/lib/python3.6/dist-packages (from pyglet>=1.2.0->gym[atari]) (0.16.0)\n",
            "Requirement already satisfied: certifi>=2017.4.17 in /usr/local/lib/python3.6/dist-packages (from requests>=2.0->gym[atari]) (2019.6.16)\n",
            "Requirement already satisfied: urllib3<1.25,>=1.21.1 in /usr/local/lib/python3.6/dist-packages (from requests>=2.0->gym[atari]) (1.24.3)\n",
            "Requirement already satisfied: idna<2.9,>=2.5 in /usr/local/lib/python3.6/dist-packages (from requests>=2.0->gym[atari]) (2.8)\n",
            "Requirement already satisfied: chardet<3.1.0,>=3.0.2 in /usr/local/lib/python3.6/dist-packages (from requests>=2.0->gym[atari]) (3.0.4)\n",
            "Requirement already satisfied: olefile in /usr/local/lib/python3.6/dist-packages (from Pillow; extra == \"atari\"->gym[atari]) (0.46)\n"
          ],
          "name": "stdout"
        }
      ]
    },
    {
      "cell_type": "code",
      "metadata": {
        "id": "pdb2JwZy4jGj",
        "colab_type": "code",
        "colab": {}
      },
      "source": [
        "import gym\n",
        "from gym import logger as gymlogger\n",
        "from gym.wrappers import Monitor\n",
        "gymlogger.set_level(40) #error only\n",
        "import tensorflow as tf\n",
        "import numpy as np\n",
        "import random\n",
        "import matplotlib\n",
        "import matplotlib.pyplot as plt\n",
        "%matplotlib inline\n",
        "import math\n",
        "import glob\n",
        "import io\n",
        "import base64\n",
        "from IPython.display import HTML\n",
        "\n",
        "from IPython import display as ipythondisplay"
      ],
      "execution_count": 0,
      "outputs": []
    },
    {
      "cell_type": "code",
      "metadata": {
        "id": "nQEtc28G4niA",
        "colab_type": "code",
        "colab": {
          "base_uri": "https://localhost:8080/",
          "height": 89
        },
        "outputId": "2e56a1dd-9245-43c0-b284-f06d11cb4009"
      },
      "source": [
        "from pyvirtualdisplay import Display\n",
        "display = Display(visible=0, size=(1400, 900))\n",
        "display.start()"
      ],
      "execution_count": 4,
      "outputs": [
        {
          "output_type": "stream",
          "text": [
            "WARNING: Logging before flag parsing goes to stderr.\n",
            "W0829 14:13:22.864856 139935652013952 abstractdisplay.py:151] xdpyinfo was not found, X start can not be checked! Please install xdpyinfo!\n"
          ],
          "name": "stderr"
        },
        {
          "output_type": "execute_result",
          "data": {
            "text/plain": [
              "<Display cmd_param=['Xvfb', '-br', '-nolisten', 'tcp', '-screen', '0', '1400x900x24', ':1001'] cmd=['Xvfb', '-br', '-nolisten', 'tcp', '-screen', '0', '1400x900x24', ':1001'] oserror=None return_code=None stdout=\"None\" stderr=\"None\" timeout_happened=False>"
            ]
          },
          "metadata": {
            "tags": []
          },
          "execution_count": 4
        }
      ]
    },
    {
      "cell_type": "code",
      "metadata": {
        "id": "G9UWeToN4r7D",
        "colab_type": "code",
        "colab": {}
      },
      "source": [
        "\"\"\"\n",
        "Utility functions to enable video recording of gym environment and displaying it\n",
        "To enable video, just do \"env = wrap_env(env)\"\"\n",
        "\"\"\"\n",
        "def show_video():\n",
        "  mp4list = glob.glob('video/*.mp4')\n",
        "  if len(mp4list) > 0:\n",
        "    mp4 = mp4list[0]\n",
        "    video = io.open(mp4, 'r+b').read()\n",
        "    encoded = base64.b64encode(video)\n",
        "    ipythondisplay.display(HTML(data='''<video alt=\"test\" autoplay \n",
        "                loop controls style=\"height: 400px;\">\n",
        "                <source src=\"data:video/mp4;base64,{0}\" type=\"video/mp4\" />\n",
        "             </video>'''.format(encoded.decode('ascii'))))\n",
        "  else: \n",
        "    print(\"Could not find video\")\n",
        "\n",
        "def wrap_env(env):\n",
        "  env = Monitor(env, './video', force=True)\n",
        "  return env"
      ],
      "execution_count": 0,
      "outputs": []
    },
    {
      "cell_type": "code",
      "metadata": {
        "id": "dGEFMfDOzLen",
        "colab_type": "code",
        "colab": {}
      },
      "source": [
        "env = wrap_env(gym.make(\"CartPole-v1\"))"
      ],
      "execution_count": 0,
      "outputs": []
    },
    {
      "cell_type": "code",
      "metadata": {
        "id": "7BmIlXhe9Q89",
        "colab_type": "code",
        "colab": {
          "base_uri": "https://localhost:8080/",
          "height": 34
        },
        "outputId": "d5fb5d12-2685-4e00-be09-ba8e9460b9ba"
      },
      "source": [
        "print(env.action_space)"
      ],
      "execution_count": 7,
      "outputs": [
        {
          "output_type": "stream",
          "text": [
            "Discrete(2)\n"
          ],
          "name": "stdout"
        }
      ]
    },
    {
      "cell_type": "code",
      "metadata": {
        "id": "8nj5sjsk15IT",
        "colab_type": "code",
        "colab": {
          "base_uri": "https://localhost:8080/",
          "height": 421
        },
        "outputId": "29b5dd5a-538f-4897-8ccf-4f8581a32792"
      },
      "source": [
        "observation = env.reset()\n",
        "\n",
        "while True:\n",
        "\n",
        "    env.render()\n",
        "\n",
        "    #your agent goes here\n",
        "    action = env.action_space.sample() \n",
        "\n",
        "    observation, reward, done, info = env.step(action) \n",
        "\n",
        "    if done: \n",
        "      break;\n",
        "\n",
        "env.close()\n",
        "show_video()"
      ],
      "execution_count": 8,
      "outputs": [
        {
          "output_type": "display_data",
          "data": {
            "text/html": [
              "<video alt=\"test\" autoplay \n",
              "                loop controls style=\"height: 400px;\">\n",
              "                <source src=\"data:video/mp4;base64,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\" type=\"video/mp4\" />\n",
              "             </video>"
            ],
            "text/plain": [
              "<IPython.core.display.HTML object>"
            ]
          },
          "metadata": {
            "tags": []
          }
        }
      ]
    }
  ]
}